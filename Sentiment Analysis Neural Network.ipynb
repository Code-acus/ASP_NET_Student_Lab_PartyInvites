{
  "nbformat": 4,
  "nbformat_minor": 0,
  "metadata": {
    "colab": {
      "provenance": [],
      "mount_file_id": "15FqDKsFjqllqVNn_04v04A92HgMywHKB",
      "authorship_tag": "ABX9TyOM2pbgQoQXnqgy2aSbR39e",
      "include_colab_link": true
    },
    "kernelspec": {
      "name": "python3",
      "display_name": "Python 3"
    },
    "language_info": {
      "name": "python"
    }
  },
  "cells": [
    {
      "cell_type": "markdown",
      "metadata": {
        "id": "view-in-github",
        "colab_type": "text"
      },
      "source": [
        "<a href=\"https://colab.research.google.com/github/Code-acus/ASP_NET_Student_Lab_PartyInvites/blob/main/Sentiment%20Analysis%20Neural%20Network.ipynb\" target=\"_parent\"><img src=\"https://colab.research.google.com/assets/colab-badge.svg\" alt=\"Open In Colab\"/></a>"
      ]
    },
    {
      "cell_type": "code",
      "source": [
        "# Imports\n",
        "from google.colab import drive\n",
        "import os\n",
        "import numpy as np\n",
        "import pandas as pd\n",
        "import matplotlib.pyplot as plt\n",
        "import seaborn as sns\n",
        "import tensorflow as tf\n",
        "from tensorflow.keras import Sequential\n",
        "from tensorflow.keras.layers import Embedding, GlobalAveragePooling1D, Dense\n",
        "from tensorflow.keras.callbacks import EarlyStopping\n",
        "from tensorflow.keras.preprocessing.text import Tokenizer\n",
        "from tensorflow.keras.preprocessing.sequence import pad_sequences\n",
        "from sklearn.model_selection import train_test_split\n",
        "from sklearn.metrics import classification_report, confusion_matrix"
      ],
      "metadata": {
        "id": "V_PZVit_BHDB"
      },
      "execution_count": 12,
      "outputs": []
    },
    {
      "cell_type": "code",
      "source": [
        "# Mount your Drive\n",
        "drive.mount('/content/drive')\n",
        "\n",
        "# Define the folder where your raw files live\n",
        "RAW_DATA_DIR = '/content/drive/MyDrive/D604 Data/sentiment labelled sentences'\n",
        "\n",
        "# Define each of the five output folders as its own top-level folder\n",
        "PLOTS_DIR          = '/content/drive/MyDrive/D604 Data/sentiment_plots'\n",
        "HTML_OUTPUT_DIR    = '/content/drive/MyDrive/D604 Data/sentiment_html_output'\n",
        "MODELS_DIR         = '/content/drive/MyDrive/D604 Data/sentiment_models'\n",
        "OUTPUT_DIR         = '/content/drive/MyDrive/D604 Data/sentiment_output'\n",
        "PROCESSED_DATA_DIR = '/content/drive/MyDrive/D604 Data/sentiment_processed_data'\n",
        "\n",
        "# Create them if they don't exist\n",
        "for path in [\n",
        "    PLOTS_DIR,\n",
        "    HTML_OUTPUT_DIR,\n",
        "    MODELS_DIR,\n",
        "    OUTPUT_DIR,\n",
        "    PROCESSED_DATA_DIR\n",
        "]:\n",
        "    os.makedirs(path, exist_ok=True)"
      ],
      "metadata": {
        "colab": {
          "base_uri": "https://localhost:8080/"
        },
        "id": "4q09K8ibBdfz",
        "outputId": "bb903118-b35b-4060-877f-3b2588274b5c"
      },
      "execution_count": 13,
      "outputs": [
        {
          "output_type": "stream",
          "name": "stdout",
          "text": [
            "Drive already mounted at /content/drive; to attempt to forcibly remount, call drive.mount(\"/content/drive\", force_remount=True).\n"
          ]
        }
      ]
    },
    {
      "cell_type": "code",
      "source": [
        "# Core parameters\n",
        "for path in [\n",
        "    RAW_DATA_DIR,\n",
        "    PLOTS_DIR,\n",
        "    HTML_OUTPUT_DIR,\n",
        "    MODELS_DIR,\n",
        "    OUTPUT_DIR,\n",
        "    PROCESSED_DATA_DIR\n",
        "]:\n",
        "    os.makedirs(path, exist_ok=True)"
      ],
      "metadata": {
        "id": "MpZqVHIcEWAV"
      },
      "execution_count": 14,
      "outputs": []
    },
    {
      "cell_type": "code",
      "source": [
        "# Core parameters\n",
        "text_col = 'text'\n",
        "sent_col = 'sentiment'\n",
        "vocab_size = 10000\n",
        "max_leangth = 100\n",
        "embedding_dim = 16"
      ],
      "metadata": {
        "id": "_DglfBenFvwI"
      },
      "execution_count": 15,
      "outputs": []
    },
    {
      "cell_type": "code",
      "source": [
        "# 6. Load & combine the three labeled-sentences files\n",
        "amazon = pd.read_csv(\n",
        "    os.path.join(RAW_DATA_DIR, 'amazon_cells_labelled.txt'),\n",
        "    sep='\\t', header=None, names=[text_col, sent_col]\n",
        ")\n",
        "imdb = pd.read_csv(\n",
        "    os.path.join(RAW_DATA_DIR, 'imdb_labelled.txt'),\n",
        "    sep='\\t', header=None, names=[text_col, sent_col]\n",
        ")\n",
        "yelp = pd.read_csv(\n",
        "    os.path.join(RAW_DATA_DIR, 'yelp_labelled.txt'),\n",
        "    sep='\\t', header=None, names=[text_col, sent_col]\n",
        ")\n",
        "data = pd.concat([amazon, imdb, yelp], ignore_index=True)\n",
        "\n",
        "# save the raw combined dataset\n",
        "data.to_csv(\n",
        "    os.path.join(PROCESSED_DATA_DIR, 'raw_combined.csv'),\n",
        "    index=False\n",
        ")"
      ],
      "metadata": {
        "id": "xtssGWIMGJCa"
      },
      "execution_count": 17,
      "outputs": []
    },
    {
      "cell_type": "code",
      "source": [
        "# Exploratory data analysis\n"
      ],
      "metadata": {
        "id": "mL3HxmsEJL9K"
      },
      "execution_count": null,
      "outputs": []
    }
  ]
}